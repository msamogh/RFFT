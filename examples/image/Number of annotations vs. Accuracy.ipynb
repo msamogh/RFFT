{
 "cells": [
  {
   "cell_type": "code",
   "execution_count": 3,
   "metadata": {},
   "outputs": [],
   "source": [
    "import os\n",
    "import random\n",
    "\n",
    "import numpy as np\n",
    "\n",
    "from rfft.hypothesis import Hypothesis\n",
    "from rfft.multilayer_perceptron import MultilayerPerceptron\n",
    "\n",
    "from decoy_mnist import generate_dataset\n",
    "from decoy_mnist import load_annotations\n",
    "from decoy_mnist import load_hypothesis"
   ]
  },
  {
   "cell_type": "code",
   "execution_count": 4,
   "metadata": {},
   "outputs": [],
   "source": [
    "Xr, X, y, E, Xtr, Xt, yt, Et = generate_dataset()"
   ]
  },
  {
   "cell_type": "code",
   "execution_count": 5,
   "metadata": {},
   "outputs": [],
   "source": [
    "dirname = 'tagging/decoy_mnist'"
   ]
  },
  {
   "cell_type": "code",
   "execution_count": 6,
   "metadata": {},
   "outputs": [],
   "source": [
    "def score_model(mlp):\n",
    "    print('Train: {0}, Test: {1}'.format(mlp.score(X, y), mlp.score(Xt, yt)))\n",
    "    return (mlp.score(X, y), mlp.score(Xt, yt))"
   ]
  },
  {
   "cell_type": "code",
   "execution_count": 43,
   "metadata": {},
   "outputs": [],
   "source": [
    "def run_experiment():\n",
    "    INCREMENT = 5\n",
    "    WEIGHT_PER_MASK = 1000\n",
    "    \n",
    "    xml_files = [os.path.join(dirname, x) for x in os.listdir(dirname) if x.endswith('.xml')]\n",
    "    random.shuffle(xml_files)\n",
    "    \n",
    "    accuracies = []\n",
    "\n",
    "    iteration = 0\n",
    "    for indices, hypothesis in Hypothesis.incrementally_sample(xml_files,\n",
    "                                                               load_hypothesis,\n",
    "                                                               X.shape,\n",
    "                                                               increment=INCREMENT):\n",
    "        non_zero_rows = np.where(hypothesis.A != 0)[0]\n",
    "        assert set(non_zero_rows) == set(indices)\n",
    "        assert(len(indices) == iteration * INCREMENT)\n",
    "        \n",
    "        hypothesis.weight = WEIGHT_PER_MASK * len(indices)\n",
    "        mlp = MultilayerPerceptron()\n",
    "        mlp.fit(X, y, hypothesis=hypothesis, num_epochs=6, always_include=indices, show_progress_every=500, verbose=True)\n",
    "\n",
    "        train_acc, test_acc = score_model(mlp)\n",
    "        accuracies.append((len(indices), train_acc, test_acc))\n",
    "        iteration += 1\n",
    "    return accuracies"
   ]
  },
  {
   "cell_type": "code",
   "execution_count": 11,
   "metadata": {},
   "outputs": [],
   "source": [
    "all_accuracies = []"
   ]
  },
  {
   "cell_type": "code",
   "execution_count": 44,
   "metadata": {},
   "outputs": [
    {
     "name": "stdout",
     "output_type": "stream",
     "text": [
      "Iteration=1000, crossentropy=33.3528227687, rightreasons=0.0, smallparams=0.0361458817879, lenX=1.0Train: 0.97075, Test: 0.6292\n",
      "Iteration=1000, crossentropy=426.619269586, rightreasons=227.187182571, smallparams=0.0374157827702, lenX=1.0Train: 0.866883333333, Test: 0.7596\n",
      "Iteration=1000, crossentropy=1146.19934444, rightreasons=860.235774012, smallparams=0.0361971850174, lenX=1.0Train: 0.6295, Test: 0.5455\n",
      "Iteration=1000, crossentropy=1479.41457456, rightreasons=2154.62797238, smallparams=0.0356430746285, lenX=1.0Train: 0.3178, Test: 0.299\n",
      "Iteration=1000, crossentropy=1729.7274119, rightreasons=1517.99976542, smallparams=0.0348106239013, lenX=1.0Train: 0.391183333333, Test: 0.3388\n",
      "Iteration=1000, crossentropy=2964.0140936, rightreasons=3700.32144905, smallparams=0.0367563252424, lenX=1.0Train: 0.301933333333, Test: 0.2732\n",
      "Iteration=1000, crossentropy=3084.5038819, rightreasons=16342.3353348, smallparams=0.0349767956356, lenX=1.0Train: 0.14895, Test: 0.1424\n",
      "Iteration=1000, crossentropy=2634.7419201, rightreasons=12209.9390057, smallparams=0.0341075315337, lenX=1.0Train: 0.107266666667, Test: 0.1024\n"
     ]
    }
   ],
   "source": [
    "for i in range(1):\n",
    "    all_accuracies.append(run_experiment())"
   ]
  },
  {
   "cell_type": "code",
   "execution_count": 39,
   "metadata": {},
   "outputs": [],
   "source": [
    "import numpy as np\n",
    "import matplotlib.pyplot as plt\n",
    "from scipy.interpolate import spline"
   ]
  },
  {
   "cell_type": "code",
   "execution_count": 45,
   "metadata": {},
   "outputs": [
    {
     "name": "stderr",
     "output_type": "stream",
     "text": [
      "/home/atithi/lime/lib/python2.7/site-packages/ipykernel_launcher.py:3: DeprecationWarning: `spline` is deprecated!\n",
      "spline is deprecated in scipy 0.19.0, use Bspline class instead.\n",
      "  This is separate from the ipykernel package so we can avoid doing imports until\n"
     ]
    },
    {
     "data": {
      "image/png": "[encoded data removed]",
      "text/plain": [
       "<matplotlib.figure.Figure at 0x7fa0b4538650>"
      ]
     },
     "metadata": {},
     "output_type": "display_data"
    }
   ],
   "source": [
    "accuracies = np.array(list(map(list, all_accuracies[1])))\n",
    "xnew = np.linspace(accuracies[:, 0].min(), accuracies[:, 0].max(), 30)\n",
    "power_smooth = spline(np.array(accuracies[:, 0]), np.array(accuracies[:, 1:]), xnew)\n",
    "plt.plot(xnew, power_smooth)\n",
    "plt.show()"
   ]
  },
  {
   "cell_type": "code",
   "execution_count": null,
   "metadata": {},
   "outputs": [],
   "source": []
  }
 ],
 "metadata": {
  "kernelspec": {
   "display_name": "lime",
   "language": "python",
   "name": "lime"
  },
  "language_info": {
   "codemirror_mode": {
    "name": "ipython",
    "version": 2
   },
   "file_extension": ".py",
   "mimetype": "text/x-python",
   "name": "python",
   "nbconvert_exporter": "python",
   "pygments_lexer": "ipython2",
   "version": "2.7.6"
  }
 },
 "nbformat": 4,
 "nbformat_minor": 2
}
