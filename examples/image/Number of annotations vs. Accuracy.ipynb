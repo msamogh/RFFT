{
 "cells": [
  {
   "cell_type": "code",
   "execution_count": 1,
   "metadata": {},
   "outputs": [],
   "source": [
    "import os\n",
    "import random\n",
    "\n",
    "import numpy as np\n",
    "\n",
    "from rfft.hypothesis import Hypothesis\n",
    "from rfft.multilayer_perceptron import MultilayerPerceptron\n",
    "\n",
    "from decoy_mnist import generate_dataset\n",
    "from decoy_mnist import load_annotations\n",
    "from decoy_mnist import load_hypothesis"
   ]
  },
  {
   "cell_type": "code",
   "execution_count": 2,
   "metadata": {},
   "outputs": [],
   "source": [
    "Xr, X, y, E, Xtr, Xt, yt, Et = generate_dataset()"
   ]
  },
  {
   "cell_type": "code",
   "execution_count": 3,
   "metadata": {},
   "outputs": [],
   "source": [
    "dirname = 'tagging/decoy_mnist'"
   ]
  },
  {
   "cell_type": "code",
   "execution_count": 4,
   "metadata": {},
   "outputs": [],
   "source": [
    "def score_model(mlp):\n",
    "    print('Train: {0}, Test: {1}'.format(mlp.score(X, y), mlp.score(Xt, yt)))\n",
    "    return (mlp.score(X, y), mlp.score(Xt, yt))"
   ]
  },
  {
   "cell_type": "code",
   "execution_count": 7,
   "metadata": {},
   "outputs": [],
   "source": [
    "def run_experiment():\n",
    "    INCREMENT = 3\n",
    "    WEIGHT_PER_MASK = 166\n",
    "    \n",
    "    xml_files = [os.path.join(dirname, x) for x in os.listdir(dirname) if x.endswith('.xml')]\n",
    "    random.shuffle(xml_files)\n",
    "    \n",
    "    accuracies = []\n",
    "\n",
    "    iteration = 0\n",
    "    for indices, hypothesis in Hypothesis.incrementally_sample(xml_files,\n",
    "                                                               load_hypothesis,\n",
    "                                                               X.shape,\n",
    "                                                               increment=INCREMENT):\n",
    "        non_zero_rows = np.where(hypothesis.A != 0)[0]\n",
    "        assert set(non_zero_rows) == set(indices)\n",
    "        assert(len(indices) == iteration * INCREMENT)\n",
    "        \n",
    "        hypothesis.weight = WEIGHT_PER_MASK * len(indices)\n",
    "        mlp = MultilayerPerceptron()\n",
    "        mlp.fit(X, y, hypothesis=hypothesis, num_epochs=6, always_include=indices, show_progress_every=500, verbose=True)\n",
    "\n",
    "        train_acc, test_acc = score_model(mlp)\n",
    "        accuracies.append((len(indices), train_acc, test_acc))\n",
    "        iteration += 1\n",
    "    return accuracies"
   ]
  },
  {
   "cell_type": "code",
   "execution_count": 8,
   "metadata": {},
   "outputs": [],
   "source": [
    "all_accuracies = []"
   ]
  },
  {
   "cell_type": "code",
   "execution_count": 9,
   "metadata": {},
   "outputs": [
    {
     "name": "stdout",
     "output_type": "stream",
     "text": [
      "Iteration=1000, crossentropy=51.75997889381819, rightreasons=0.0, smallparams=0.037090424102738856, lenX=1.0Train: 0.96115, Test: 0.6726\n",
      "Iteration=1000, crossentropy=86.32726791876905, rightreasons=3.859267184907163, smallparams=0.03576816893838333, lenX=1.0Train: 0.9300166666666667, Test: 0.7213\n",
      "Iteration=1000, crossentropy=237.98723021263524, rightreasons=90.65750107097197, smallparams=0.03533451183553031, lenX=1.0Train: 0.8946666666666667, Test: 0.7356\n",
      "Iteration=1000, crossentropy=228.2144126076356, rightreasons=102.03542137397845, smallparams=0.03504720514995973, lenX=1.0Train: 0.8409666666666666, Test: 0.7133\n",
      "Iteration=1000, crossentropy=350.0680824993992, rightreasons=183.39926065988192, smallparams=0.03425220333802369, lenX=1.0Train: 0.8077166666666666, Test: 0.6986\n",
      "Iteration=1000, crossentropy=484.83024230756905, rightreasons=182.4197697472366, smallparams=0.03416057637449, lenX=1.01.0Train: 0.7358333333333333, Test: 0.6582\n",
      "Iteration=1000, crossentropy=815.4432449825305, rightreasons=309.00435057357134, smallparams=0.034645488276215025, lenX=1.0Train: 0.6591, Test: 0.588\n",
      "Iteration=1000, crossentropy=975.6861377752559, rightreasons=865.3998290557872, smallparams=0.034440283557948155, lenX=1.0Train: 0.5499, Test: 0.4842\n",
      "Iteration=1000, crossentropy=1021.2125062365569, rightreasons=781.1609952936656, smallparams=0.03605509526511263, lenX=1.0Train: 0.5733833333333334, Test: 0.5362\n",
      "Iteration=1000, crossentropy=1705.3609451682473, rightreasons=668.3899400113377, smallparams=0.03588433820252964, lenX=1.0Train: 0.4813, Test: 0.4599\n",
      "Iteration=1000, crossentropy=2247.9674396514424, rightreasons=12775.764196450638, smallparams=0.03559844980108744, lenX=1.0Train: 0.4787, Test: 0.4535\n",
      "Iteration=1000, crossentropy=2305.4709111813204, rightreasons=2202.6841859579217, smallparams=0.03586918336837714, lenX=1.0Train: 0.29125, Test: 0.2597\n",
      "Iteration=1000, crossentropy=2064.6938115039293, rightreasons=1488.338918221527, smallparams=0.0353754924580057, lenX=1.00Train: 0.3738666666666667, Test: 0.3492\n",
      "Iteration=1000, crossentropy=1556.180912746295, rightreasons=829.4696065090752, smallparams=0.03367178040994941, lenX=1.0Train: 0.2815166666666667, Test: 0.2625\n"
     ]
    }
   ],
   "source": [
    "for i in range(1):\n",
    "    all_accuracies.append(run_experiment())"
   ]
  },
  {
   "cell_type": "code",
   "execution_count": 10,
   "metadata": {},
   "outputs": [],
   "source": [
    "import numpy as np\n",
    "import matplotlib.pyplot as plt"
   ]
  },
  {
   "cell_type": "code",
   "execution_count": 25,
   "metadata": {},
   "outputs": [
    {
     "data": {
      "image/png": "[encoded data removed]",
      "text/plain": [
       "<Figure size 432x288 with 1 Axes>"
      ]
     },
     "metadata": {},
     "output_type": "display_data"
    }
   ],
   "source": [
    "accuracies = np.array(list(map(list, all_accuracies[0])))\n",
    "\n",
    "plt.plot(accuracies[:-2, 0], accuracies[:-2, 2])\n",
    "plt.ylim((0, 0.8))\n",
    "plt.show()"
   ]
  },
  {
   "cell_type": "code",
   "execution_count": null,
   "metadata": {},
   "outputs": [],
   "source": []
  }
 ],
 "metadata": {
  "kernelspec": {
   "display_name": "Python 3",
   "language": "python",
   "name": "python3"
  },
  "language_info": {
   "codemirror_mode": {
    "name": "ipython",
    "version": 3
   },
   "file_extension": ".py",
   "mimetype": "text/x-python",
   "name": "python",
   "nbconvert_exporter": "python",
   "pygments_lexer": "ipython3",
   "version": "3.5.2"
  }
 },
 "nbformat": 4,
 "nbformat_minor": 2
}
