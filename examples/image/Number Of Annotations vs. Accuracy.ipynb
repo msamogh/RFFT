{
 "cells": [
  {
   "cell_type": "code",
   "execution_count": 1,
   "metadata": {},
   "outputs": [],
   "source": [
    "import os\n",
    "import random\n",
    "\n",
    "import numpy as np\n",
    "\n",
    "from rfft.hypothesis import Hypothesis\n",
    "from rfft.multilayer_perceptron import MultilayerPerceptron\n",
    "\n",
    "from decoy_mnist import generate_dataset\n",
    "from decoy_mnist import load_annotations\n",
    "from decoy_mnist import load_hypothesis"
   ]
  },
  {
   "cell_type": "code",
   "execution_count": 2,
   "metadata": {},
   "outputs": [],
   "source": [
    "Xr, X, y, E, Xtr, Xt, yt, Et = generate_dataset()"
   ]
  },
  {
   "cell_type": "code",
   "execution_count": 3,
   "metadata": {},
   "outputs": [],
   "source": [
    "dirname = 'tagging/decoy_mnist'"
   ]
  },
  {
   "cell_type": "code",
   "execution_count": 4,
   "metadata": {},
   "outputs": [],
   "source": [
    "def score_model(mlp):\n",
    "    print('Train: {0}, Test: {1}'.format(mlp.score(X, y), mlp.score(Xt, yt)))\n",
    "    return (mlp.score(X, y), mlp.score(Xt, yt))"
   ]
  },
  {
   "cell_type": "code",
   "execution_count": 14,
   "metadata": {},
   "outputs": [],
   "source": [
    "def run_experiment():\n",
    "    INCREMENT = 20\n",
    "    WEIGHT_PER_MASK = 10\n",
    "    \n",
    "    xml_files = [os.path.join(dirname, x) for x in os.listdir(dirname) if x.endswith('.xml')]\n",
    "    random.shuffle(xml_files)\n",
    "    \n",
    "    accuracies = []\n",
    "\n",
    "    iteration = 0\n",
    "    for indices, hypothesis in Hypothesis.incrementally_sample(xml_files,\n",
    "                                                               load_hypothesis,\n",
    "                                                               X.shape,\n",
    "                                                               increment=INCREMENT):\n",
    "        non_zero_rows = np.where(hypothesis.A != 0)[0]\n",
    "        assert set(non_zero_rows) == set(indices)\n",
    "        assert(len(indices) == iteration * INCREMENT)\n",
    "        \n",
    "        hypothesis.weight = WEIGHT_PER_MASK * len(indices)\n",
    "        mlp = MultilayerPerceptron()\n",
    "        mlp.fit(X,\n",
    "                y,\n",
    "                hypothesis=hypothesis,\n",
    "                num_epochs=25,\n",
    "                always_include=indices,\n",
    "                show_progress_every=500,\n",
    "                verbose=False)\n",
    "\n",
    "        train_acc, test_acc = score_model(mlp)\n",
    "        accuracies.append((len(indices), train_acc, test_acc))\n",
    "        iteration += 1\n",
    "    return accuracies"
   ]
  },
  {
   "cell_type": "code",
   "execution_count": 15,
   "metadata": {},
   "outputs": [],
   "source": [
    "all_accuracies = []"
   ]
  },
  {
   "cell_type": "code",
   "execution_count": null,
   "metadata": {},
   "outputs": [
    {
     "name": "stdout",
     "output_type": "stream",
     "text": [
      "[==================  ] 93%Train: 0.9934, Test: 0.5808\n",
      "[==================  ] 93%Train: 0.9741333333333333, Test: 0.6507\n",
      "[===========         ] 59%"
     ]
    }
   ],
   "source": [
    "for i in range(1):\n",
    "    all_accuracies.append(run_experiment())"
   ]
  },
  {
   "cell_type": "code",
   "execution_count": null,
   "metadata": {},
   "outputs": [],
   "source": [
    "import numpy as np\n",
    "import matplotlib.pyplot as plt\n",
    "from scipy.interpolate import spline"
   ]
  },
  {
   "cell_type": "code",
   "execution_count": null,
   "metadata": {},
   "outputs": [],
   "source": [
    "accuracies = np.array(list(map(list, all_accuracies[1])))\n",
    "xnew = np.linspace(accuracies[:, 0].min(), accuracies[:, 0].max(), 30)\n",
    "power_smooth = spline(np.array(accuracies[:, 0]), np.array(accuracies[:, 2]), xnew)\n",
    "plt.title('Number of Annotations vs Accuracy')\n",
    "plt.xlabel('Number of annotations')\n",
    "plt.ylabel('Test accuracy')\n",
    "plt.plot(xnew, power_smooth)\n",
    "plt.show()"
   ]
  }
 ],
 "metadata": {
  "kernelspec": {
   "display_name": "Python 3",
   "language": "python",
   "name": "python3"
  },
  "language_info": {
   "codemirror_mode": {
    "name": "ipython",
    "version": 3
   },
   "file_extension": ".py",
   "mimetype": "text/x-python",
   "name": "python",
   "nbconvert_exporter": "python",
   "pygments_lexer": "ipython3",
   "version": "3.5.2"
  }
 },
 "nbformat": 4,
 "nbformat_minor": 2
}
