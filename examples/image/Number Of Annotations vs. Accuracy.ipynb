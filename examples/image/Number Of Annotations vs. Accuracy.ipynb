{
 "cells": [
  {
   "cell_type": "code",
   "execution_count": 1,
   "metadata": {},
   "outputs": [],
   "source": [
    "import os\n",
    "import random\n",
    "\n",
    "import numpy as np\n",
    "\n",
    "from rfft.hypothesis import Hypothesis\n",
    "from rfft.multilayer_perceptron import MultilayerPerceptron\n",
    "\n",
    "from decoy_mnist import generate_dataset\n",
    "from decoy_mnist import load_annotations\n",
    "from decoy_mnist import load_hypothesis"
   ]
  },
  {
   "cell_type": "code",
   "execution_count": 2,
   "metadata": {},
   "outputs": [],
   "source": [
    "Xr, X, y, E, Xtr, Xt, yt, Et = generate_dataset()"
   ]
  },
  {
   "cell_type": "code",
   "execution_count": 3,
   "metadata": {},
   "outputs": [],
   "source": [
    "dirname = 'tagging/decoy_mnist'"
   ]
  },
  {
   "cell_type": "code",
   "execution_count": 4,
   "metadata": {},
   "outputs": [],
   "source": [
    "def score_model(mlp):\n",
    "    print('Train: {0}, Test: {1}'.format(mlp.score(X, y), mlp.score(Xt, yt)))\n",
    "    return (mlp.score(X, y), mlp.score(Xt, yt))"
   ]
  },
  {
   "cell_type": "code",
   "execution_count": 6,
   "metadata": {},
   "outputs": [],
   "source": [
    "def run_experiment():\n",
    "    INCREMENT = 10\n",
    "    WEIGHT_PER_MASK = 10\n",
    "    \n",
    "    xml_files = [os.path.join(dirname, x) for x in os.listdir(dirname) if x.endswith('.xml')]\n",
    "    random.shuffle(xml_files)\n",
    "    \n",
    "    accuracies = []\n",
    "\n",
    "    iteration = 0\n",
    "    for indices, hypothesis in Hypothesis.incrementally_sample(xml_files,\n",
    "                                                               load_hypothesis,\n",
    "                                                               X.shape,\n",
    "                                                               increment=INCREMENT):\n",
    "        non_zero_rows = np.where(hypothesis.A != 0)[0]\n",
    "        assert set(non_zero_rows) == set(indices)\n",
    "        assert(len(indices) == iteration * INCREMENT)\n",
    "        \n",
    "        hypothesis.weight = WEIGHT_PER_MASK * len(indices)\n",
    "        mlp = MultilayerPerceptron()\n",
    "        mlp.fit(X,\n",
    "                y,\n",
    "                hypothesis=hypothesis,\n",
    "                num_epochs=6,\n",
    "                always_include=indices,\n",
    "                show_progress_every=500,\n",
    "                verbose=False)\n",
    "\n",
    "        train_acc, test_acc = score_model(mlp)\n",
    "        accuracies.append((len(indices), train_acc, test_acc))\n",
    "        iteration += 1\n",
    "    return accuracies"
   ]
  },
  {
   "cell_type": "code",
   "execution_count": 7,
   "metadata": {},
   "outputs": [],
   "source": [
    "all_accuracies = []"
   ]
  },
  {
   "cell_type": "code",
   "execution_count": 8,
   "metadata": {},
   "outputs": [
    {
     "name": "stdout",
     "output_type": "stream",
     "text": [
      "[==============      ] 70%Train: 0.96545, Test: 0.6921\n",
      "[==============      ] 70%Train: 0.9693833333333334, Test: 0.6313\n",
      "[==============      ] 70%Train: 0.9534666666666667, Test: 0.6705\n",
      "[==============      ] 70%Train: 0.96645, Test: 0.6362\n",
      "[==============      ] 70%Train: 0.96825, Test: 0.6171\n"
     ]
    }
   ],
   "source": [
    "for i in range(1):\n",
    "    all_accuracies.append(run_experiment())"
   ]
  },
  {
   "cell_type": "code",
   "execution_count": 9,
   "metadata": {},
   "outputs": [],
   "source": [
    "import numpy as np\n",
    "import matplotlib.pyplot as plt\n",
    "from scipy.interpolate import spline"
   ]
  },
  {
   "cell_type": "code",
   "execution_count": 10,
   "metadata": {},
   "outputs": [
    {
     "ename": "IndexError",
     "evalue": "list index out of range",
     "output_type": "error",
     "traceback": [
      "\u001b[0;31m---------------------------------------------------------------------------\u001b[0m",
      "\u001b[0;31mIndexError\u001b[0m                                Traceback (most recent call last)",
      "\u001b[0;32m<ipython-input-10-81fccd33b498>\u001b[0m in \u001b[0;36m<module>\u001b[0;34m()\u001b[0m\n\u001b[0;32m----> 1\u001b[0;31m \u001b[0maccuracies\u001b[0m \u001b[0;34m=\u001b[0m \u001b[0mnp\u001b[0m\u001b[0;34m.\u001b[0m\u001b[0marray\u001b[0m\u001b[0;34m(\u001b[0m\u001b[0mlist\u001b[0m\u001b[0;34m(\u001b[0m\u001b[0mmap\u001b[0m\u001b[0;34m(\u001b[0m\u001b[0mlist\u001b[0m\u001b[0;34m,\u001b[0m \u001b[0mall_accuracies\u001b[0m\u001b[0;34m[\u001b[0m\u001b[0;36m1\u001b[0m\u001b[0;34m]\u001b[0m\u001b[0;34m)\u001b[0m\u001b[0;34m)\u001b[0m\u001b[0;34m)\u001b[0m\u001b[0;34m\u001b[0m\u001b[0m\n\u001b[0m\u001b[1;32m      2\u001b[0m \u001b[0mxnew\u001b[0m \u001b[0;34m=\u001b[0m \u001b[0mnp\u001b[0m\u001b[0;34m.\u001b[0m\u001b[0mlinspace\u001b[0m\u001b[0;34m(\u001b[0m\u001b[0maccuracies\u001b[0m\u001b[0;34m[\u001b[0m\u001b[0;34m:\u001b[0m\u001b[0;34m,\u001b[0m \u001b[0;36m0\u001b[0m\u001b[0;34m]\u001b[0m\u001b[0;34m.\u001b[0m\u001b[0mmin\u001b[0m\u001b[0;34m(\u001b[0m\u001b[0;34m)\u001b[0m\u001b[0;34m,\u001b[0m \u001b[0maccuracies\u001b[0m\u001b[0;34m[\u001b[0m\u001b[0;34m:\u001b[0m\u001b[0;34m,\u001b[0m \u001b[0;36m0\u001b[0m\u001b[0;34m]\u001b[0m\u001b[0;34m.\u001b[0m\u001b[0mmax\u001b[0m\u001b[0;34m(\u001b[0m\u001b[0;34m)\u001b[0m\u001b[0;34m,\u001b[0m \u001b[0;36m30\u001b[0m\u001b[0;34m)\u001b[0m\u001b[0;34m\u001b[0m\u001b[0m\n\u001b[1;32m      3\u001b[0m \u001b[0mpower_smooth\u001b[0m \u001b[0;34m=\u001b[0m \u001b[0mspline\u001b[0m\u001b[0;34m(\u001b[0m\u001b[0mnp\u001b[0m\u001b[0;34m.\u001b[0m\u001b[0marray\u001b[0m\u001b[0;34m(\u001b[0m\u001b[0maccuracies\u001b[0m\u001b[0;34m[\u001b[0m\u001b[0;34m:\u001b[0m\u001b[0;34m,\u001b[0m \u001b[0;36m0\u001b[0m\u001b[0;34m]\u001b[0m\u001b[0;34m)\u001b[0m\u001b[0;34m,\u001b[0m \u001b[0mnp\u001b[0m\u001b[0;34m.\u001b[0m\u001b[0marray\u001b[0m\u001b[0;34m(\u001b[0m\u001b[0maccuracies\u001b[0m\u001b[0;34m[\u001b[0m\u001b[0;34m:\u001b[0m\u001b[0;34m,\u001b[0m \u001b[0;36m2\u001b[0m\u001b[0;34m]\u001b[0m\u001b[0;34m)\u001b[0m\u001b[0;34m,\u001b[0m \u001b[0mxnew\u001b[0m\u001b[0;34m)\u001b[0m\u001b[0;34m\u001b[0m\u001b[0m\n\u001b[1;32m      4\u001b[0m \u001b[0mplt\u001b[0m\u001b[0;34m.\u001b[0m\u001b[0mtitle\u001b[0m\u001b[0;34m(\u001b[0m\u001b[0;34m'Number of Annotations vs Accuracy'\u001b[0m\u001b[0;34m)\u001b[0m\u001b[0;34m\u001b[0m\u001b[0m\n\u001b[1;32m      5\u001b[0m \u001b[0mplt\u001b[0m\u001b[0;34m.\u001b[0m\u001b[0mxlabel\u001b[0m\u001b[0;34m(\u001b[0m\u001b[0;34m'Number of annotations'\u001b[0m\u001b[0;34m)\u001b[0m\u001b[0;34m\u001b[0m\u001b[0m\n",
      "\u001b[0;31mIndexError\u001b[0m: list index out of range"
     ]
    }
   ],
   "source": [
    "accuracies = np.array(list(map(list, all_accuracies[1])))\n",
    "xnew = np.linspace(accuracies[:, 0].min(), accuracies[:, 0].max(), 30)\n",
    "power_smooth = spline(np.array(accuracies[:, 0]), np.array(accuracies[:, 2]), xnew)\n",
    "plt.title('Number of Annotations vs Accuracy')\n",
    "plt.xlabel('Number of annotations')\n",
    "plt.ylabel('Test accuracy')\n",
    "plt.plot(xnew, power_smooth)\n",
    "plt.show()"
   ]
  },
  {
   "cell_type": "code",
   "execution_count": null,
   "metadata": {},
   "outputs": [],
   "source": []
  }
 ],
 "metadata": {
  "kernelspec": {
   "display_name": "Python 3",
   "language": "python",
   "name": "python3"
  },
  "language_info": {
   "codemirror_mode": {
    "name": "ipython",
    "version": 3
   },
   "file_extension": ".py",
   "mimetype": "text/x-python",
   "name": "python",
   "nbconvert_exporter": "python",
   "pygments_lexer": "ipython3",
   "version": "3.5.2"
  }
 },
 "nbformat": 4,
 "nbformat_minor": 2
}
