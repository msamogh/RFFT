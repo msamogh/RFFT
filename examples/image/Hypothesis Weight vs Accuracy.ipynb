{
 "cells": [
  {
   "cell_type": "code",
   "execution_count": 6,
   "metadata": {},
   "outputs": [],
   "source": [
    "import os\n",
    "import random\n",
    "\n",
    "import numpy as np\n",
    "\n",
    "from rfft.hypothesis import Hypothesis\n",
    "from rfft.multilayer_perceptron import MultilayerPerceptron\n",
    "\n",
    "from decoy_mnist import generate_dataset\n",
    "from decoy_mnist import load_annotations\n",
    "from decoy_mnist import load_hypothesis"
   ]
  },
  {
   "cell_type": "code",
   "execution_count": 7,
   "metadata": {},
   "outputs": [],
   "source": [
    "Xr, X, y, E, Xtr, Xt, yt, Et = generate_dataset()"
   ]
  },
  {
   "cell_type": "code",
   "execution_count": 8,
   "metadata": {},
   "outputs": [],
   "source": [
    "dirname = 'tagging/decoy_mnist'"
   ]
  },
  {
   "cell_type": "code",
   "execution_count": 9,
   "metadata": {},
   "outputs": [],
   "source": [
    "def score_model(mlp):\n",
    "    print('Train: {0}, Test: {1}'.format(mlp.score(X, y), mlp.score(Xt, yt)))\n",
    "    return (mlp.score(X, y), mlp.score(Xt, yt))"
   ]
  },
  {
   "cell_type": "code",
   "execution_count": 22,
   "metadata": {},
   "outputs": [],
   "source": [
    "def run_experiment():\n",
    "    indices, hypothesis = load_annotations(X.shape)\n",
    "    \n",
    "    accuracies = []\n",
    "\n",
    "    for i, weight_per_mask in enumerate(np.logspace(start=1, stop=3, num=7)):\n",
    "        hypothesis.weight = weight_per_mask * len(indices)\n",
    "        print('Weight = {0}'.format(hypothesis.weight))\n",
    "        mlp = MultilayerPerceptron()\n",
    "        mlp.fit(X,\n",
    "                y,\n",
    "                hypothesis=hypothesis,\n",
    "                num_epochs=16,\n",
    "                always_include=indices,\n",
    "                show_progress_every=500,\n",
    "                verbose=True)\n",
    "\n",
    "        train_acc, test_acc = score_model(mlp)\n",
    "        accuracies.append((weight_per_mask, train_acc, test_acc))\n",
    "    return accuracies"
   ]
  },
  {
   "cell_type": "code",
   "execution_count": 23,
   "metadata": {},
   "outputs": [
    {
     "name": "stdout",
     "output_type": "stream",
     "text": [
      "400.0\n",
      "Iteration=3500, crossentropy=170.213031732, rightreasons=31.5338351368, smallparams=0.0409094387314, lenX=1.0Train: 0.8682, Test: 0.6742\n",
      "861.7738760127532\n",
      "Iteration=3500, crossentropy=193.58989717, rightreasons=23.8509791238, smallparams=0.0397453088067, lenX=1.00Train: 0.880233333333, Test: 0.7406\n",
      "1856.635533445111\n",
      "Iteration=3500, crossentropy=311.744022875, rightreasons=17.5719981711, smallparams=0.0424045933965, lenX=1.0Train: 0.731883333333, Test: 0.7047\n",
      "4000.0\n",
      "Iteration=3500, crossentropy=510.068708158, rightreasons=69.7723726598, smallparams=0.041140131126, lenX=1.00Train: 0.615, Test: 0.5495\n",
      "8617.73876012753\n",
      "Iteration=3500, crossentropy=474.50990087, rightreasons=102.598990484, smallparams=0.0430360474867, lenX=1.00Train: 0.5916, Test: 0.5154\n",
      "18566.35533445111\n",
      "Iteration=3500, crossentropy=1062.82593913, rightreasons=388.983649574, smallparams=0.0443181428151, lenX=1.0Train: 0.461783333333, Test: 0.4301\n",
      "40000.0\n",
      "Iteration=3500, crossentropy=967.043446066, rightreasons=1227.31882034, smallparams=0.0470725244293, lenX=1.0Train: 0.383683333333, Test: 0.3485\n"
     ]
    }
   ],
   "source": [
    "accuracies = run_experiment()"
   ]
  },
  {
   "cell_type": "code",
   "execution_count": 94,
   "metadata": {},
   "outputs": [],
   "source": [
    "weights = np.logspace(start=1, stop=3, num=7)\n",
    "accuracies = [\n",
    "    (0.8682, 0.6742),\n",
    "    (0.880233333333, 0.7406),\n",
    "    (0.731883333333, 0.7047),\n",
    "    (0.615, 0.5495),\n",
    "    (0.5916, 0.5154),\n",
    "    (0.461783333333, 0.4301),\n",
    "    (0.383683333333, 0.3485)\n",
    "]\n",
    "\n",
    "for i in range(len(accuracies)):\n",
    "    accuracies[i] = (weights[i], accuracies[i][0], accuracies[i][1])"
   ]
  },
  {
   "cell_type": "code",
   "execution_count": 95,
   "metadata": {},
   "outputs": [],
   "source": [
    "import numpy as np\n",
    "import matplotlib.pyplot as plt\n",
    "from scipy.interpolate import spline"
   ]
  },
  {
   "cell_type": "code",
   "execution_count": 96,
   "metadata": {},
   "outputs": [
    {
     "ename": "TypeError",
     "evalue": "list indices must be integers, not tuple",
     "output_type": "error",
     "traceback": [
      "\u001b[0;31m---------------------------------------------------------------------------\u001b[0m",
      "\u001b[0;31mTypeError\u001b[0m                                 Traceback (most recent call last)",
      "\u001b[0;32m<ipython-input-96-7a7fd0c70120>\u001b[0m in \u001b[0;36m<module>\u001b[0;34m()\u001b[0m\n\u001b[0;32m----> 1\u001b[0;31m \u001b[0;32mprint\u001b[0m\u001b[0;34m(\u001b[0m\u001b[0maccuracies\u001b[0m\u001b[0;34m[\u001b[0m\u001b[0;34m:\u001b[0m\u001b[0;34m,\u001b[0m \u001b[0;36m2\u001b[0m\u001b[0;34m]\u001b[0m\u001b[0;34m)\u001b[0m\u001b[0;34m\u001b[0m\u001b[0m\n\u001b[0m",
      "\u001b[0;31mTypeError\u001b[0m: list indices must be integers, not tuple"
     ]
    }
   ],
   "source": [
    "print(accuracies[:, 2])"
   ]
  },
  {
   "cell_type": "code",
   "execution_count": 109,
   "metadata": {},
   "outputs": [
    {
     "name": "stderr",
     "output_type": "stream",
     "text": [
      "/home/atithi/lime/lib/python2.7/site-packages/ipykernel_launcher.py:3: DeprecationWarning: `spline` is deprecated!\n",
      "spline is deprecated in scipy 0.19.0, use Bspline class instead.\n",
      "  This is separate from the ipykernel package so we can avoid doing imports until\n"
     ]
    }
   ],
   "source": [
    "accuracies = np.array(list(map(list, accuracies)))\n",
    "xnew = np.linspace(accuracies[:, 0].min(), accuracies[:, 0].max(), 7)\n",
    "power_smooth = spline(np.array(accuracies[:, 0]), accuracies[:, 2], np.array(xnew))"
   ]
  },
  {
   "cell_type": "code",
   "execution_count": 112,
   "metadata": {},
   "outputs": [
    {
     "data": {
      "image/png": "[encoded data removed]",
      "text/plain": [
       "<matplotlib.figure.Figure at 0x7fc37188e510>"
      ]
     },
     "metadata": {},
     "output_type": "display_data"
    }
   ],
   "source": [
    "ax = plt.plot(accuracies[:, 0], accuracies[:, 2])\n",
    "plt.title('Hypothesis Weight vs Accuracy')\n",
    "p\n",
    "plt.xscale('log')\n",
    "plt.show()"
   ]
  },
  {
   "cell_type": "code",
   "execution_count": null,
   "metadata": {},
   "outputs": [],
   "source": []
  }
 ],
 "metadata": {
  "kernelspec": {
   "display_name": "lime",
   "language": "python",
   "name": "lime"
  },
  "language_info": {
   "codemirror_mode": {
    "name": "ipython",
    "version": 2
   },
   "file_extension": ".py",
   "mimetype": "text/x-python",
   "name": "python",
   "nbconvert_exporter": "python",
   "pygments_lexer": "ipython2",
   "version": "2.7.6"
  }
 },
 "nbformat": 4,
 "nbformat_minor": 2
}
