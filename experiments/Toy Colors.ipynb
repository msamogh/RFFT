{
 "cells": [
  {
   "cell_type": "code",
   "execution_count": 2,
   "metadata": {},
   "outputs": [],
   "source": [
    "import sys; sys.path.append('../rrr')\n",
    "from multilayer_perceptron import *\n",
    "from figure_grid import *\n",
    "from local_linear_explanation import *\n",
    "from toy_colors import generate_dataset, imgshape, ignore_rule1, ignore_rule2, rule1_score, rule2_score\n",
    "import lime\n",
    "import lime.lime_tabular"
   ]
  },
  {
   "cell_type": "markdown",
   "metadata": {},
   "source": [
    "# Toy Color Dataset\n",
    "\n",
    "This is a simple, two-class image classification dataset with two independent ways a model could learn to distinguish between classes. The first is whether all four corner pixels are the same color, and the second is whether the top-middle three pixels are all different colors. Images in class 1 satisfy both conditions and images in class 2 satisfy neither. See `color_dataset_generator` for more details.\n",
    "\n",
    "We will train a multilayer perceptron to classify these images, explore which rule(s) it implicitly learns, and constrain it to use only one rule (or neither).\n",
    "\n",
    "Let's first load our dataset:"
   ]
  },
  {
   "cell_type": "code",
   "execution_count": 3,
   "metadata": {},
   "outputs": [],
   "source": [
    "X, Xt, y, yt = generate_dataset(cachefile='../data/toy-colors.npz')\n",
    "E1 = np.array([ignore_rule2 for _ in range(len(y))])\n",
    "E2 = np.array([ignore_rule1 for _ in range(len(y))])"
   ]
  },
  {
   "cell_type": "code",
   "execution_count": 4,
   "metadata": {},
   "outputs": [
    {
     "name": "stdout",
     "output_type": "stream",
     "text": [
      "((20000, 75), (20000, 75), (20000,), (20000,), (20000, 75), (20000, 75))\n"
     ]
    }
   ],
   "source": [
    "print(X.shape, Xt.shape, y.shape, yt.shape, E1.shape, E2.shape)"
   ]
  },
  {
   "cell_type": "markdown",
   "metadata": {},
   "source": [
    "## Understanding the Dataset\n",
    "\n",
    "Let's just examine images from each class quickly and verify that in class 1, the corners are all the same color and the top-middle three pixels are all different (none of which should hold true in class 2):"
   ]
  },
  {
   "cell_type": "code",
   "execution_count": 5,
   "metadata": {},
   "outputs": [
    {
     "data": {
      "image/png": "[encoded data removed]",
      "text/plain": [
       "<matplotlib.figure.Figure at 0x7fdb12e43210>"
      ]
     },
     "metadata": {},
     "output_type": "display_data"
    }
   ],
   "source": [
    "plt.subplot(121)\n",
    "plt.title('Class 1')\n",
    "image_grid(X[np.argwhere(y == 0)[:9]], (5,5,3), 3)\n",
    "plt.subplot(122)\n",
    "plt.title('Class 2')\n",
    "image_grid(X[np.argwhere(y == 1)[:9]], (5,5,3), 3)\n",
    "plt.show()"
   ]
  },
  {
   "cell_type": "markdown",
   "metadata": {},
   "source": [
    "Great.\n",
    "\n",
    "## Explaining and learning diverse classifiers\n",
    "\n",
    "Now let's see if we can train our model to implicitly learn each rule:"
   ]
  },
  {
   "cell_type": "code",
   "execution_count": 6,
   "metadata": {},
   "outputs": [],
   "source": [
    "def explain(model, title='', length=4):\n",
    "  plt.title(title)\n",
    "  explanation_grid(model.grad_explain(Xt[:length*length]), imgshape, length)"
   ]
  },
  {
   "cell_type": "code",
   "execution_count": 7,
   "metadata": {},
   "outputs": [
    {
     "data": {
      "text/plain": [
       "0.9999"
      ]
     },
     "execution_count": 7,
     "metadata": {},
     "output_type": "execute_result"
    }
   ],
   "source": [
    "# Train a model without any constraints\n",
    "mlp_plain = MultilayerPerceptron()\n",
    "mlp_plain.fit(X, y)\n",
    "mlp_plain.score(Xt, yt)"
   ]
  },
  {
   "cell_type": "code",
   "execution_count": 8,
   "metadata": {},
   "outputs": [
    {
     "data": {
      "text/plain": [
       "1.0"
      ]
     },
     "execution_count": 8,
     "metadata": {},
     "output_type": "execute_result"
    }
   ],
   "source": [
    "# Train a model constrained to use the first rule\n",
    "mlp_rule1 = MultilayerPerceptron(l2_grads=1000)\n",
    "mlp_rule1.fit(X, y, E1)\n",
    "mlp_rule1.score(Xt, yt)"
   ]
  },
  {
   "cell_type": "code",
   "execution_count": 9,
   "metadata": {},
   "outputs": [
    {
     "data": {
      "text/plain": [
       "0.9935"
      ]
     },
     "execution_count": 9,
     "metadata": {},
     "output_type": "execute_result"
    }
   ],
   "source": [
    "# Train a model constrained to use the second rule\n",
    "mlp_rule2 = MultilayerPerceptron(l2_grads=1000)\n",
    "mlp_rule2.fit(X, y, E2)\n",
    "mlp_rule2.score(Xt, yt)"
   ]
  },
  {
   "cell_type": "code",
   "execution_count": 10,
   "metadata": {},
   "outputs": [
    {
     "data": {
      "image/png": "[encoded data removed]",
      "text/plain": [
       "<matplotlib.figure.Figure at 0x7fdb107b33d0>"
      ]
     },
     "metadata": {},
     "output_type": "display_data"
    }
   ],
   "source": [
    "# Visualize largest weights\n",
    "with figure_grid(1,3, rowwidth=8) as g:\n",
    "  g.next()\n",
    "  explain(mlp_plain, 'No annotations')\n",
    "  g.next()\n",
    "  explain(mlp_rule1, '$A$ penalizing top middle')\n",
    "  g.next()\n",
    "  explain(mlp_rule2, '$A$ penalizing corners')"
   ]
  },
  {
   "cell_type": "markdown",
   "metadata": {},
   "source": [
    "Notice that when we explicitly penalize corners or the top middle, the model appears to learn the _other_ rule perfectly. We haven't identified the pixels it does treat as significant in any way, but they are significant, so the fact that they show up in the explanations means that the explanation is probably an accurate reflection of the model's implicit logic.\n",
    "\n",
    "When we don't have any annotations, the model does identify the top-middle pixels occasionally, suggesting it defaults to learning a heavily but not completely corner-weighted combination of the rules.\n",
    "\n",
    "What happens when we forbid it from using either rule?"
   ]
  },
  {
   "cell_type": "code",
   "execution_count": 11,
   "metadata": {},
   "outputs": [
    {
     "data": {
      "text/plain": [
       "0.632"
      ]
     },
     "execution_count": 11,
     "metadata": {},
     "output_type": "execute_result"
    }
   ],
   "source": [
    "mlp_neither = MultilayerPerceptron(l2_grads=1e6)\n",
    "mlp_neither.fit(X, y, E1 + E2)\n",
    "mlp_neither.score(Xt, yt)"
   ]
  },
  {
   "cell_type": "code",
   "execution_count": 12,
   "metadata": {},
   "outputs": [
    {
     "data": {
      "image/png": "[encoded data removed]",
      "text/plain": [
       "<matplotlib.figure.Figure at 0x7fdb10826b90>"
      ]
     },
     "metadata": {},
     "output_type": "display_data"
    }
   ],
   "source": [
    "explain(mlp_neither, '$A$ biased against all relevant features')\n",
    "plt.show()"
   ]
  },
  {
   "cell_type": "markdown",
   "metadata": {},
   "source": [
    "As we might expect, accuracy goes down and we start identifying random pixels as significant.\n",
    "\n",
    "## Find-another-explanation\n",
    "\n",
    "Let's now pretend we have no knowledge of what $A$ _should_ be for this dataset. Can we still train models that use diverse rules just by examining explanations?"
   ]
  },
  {
   "cell_type": "code",
   "execution_count": 13,
   "metadata": {},
   "outputs": [
    {
     "data": {
      "text/plain": [
       "1.0"
      ]
     },
     "execution_count": 13,
     "metadata": {},
     "output_type": "execute_result"
    }
   ],
   "source": [
    "A1 = mlp_plain.largest_gradient_mask(X)\n",
    "mlp_fae1 = MultilayerPerceptron(l2_grads=1000)\n",
    "mlp_fae1.fit(X, y, A1)\n",
    "mlp_fae1.score(Xt, yt)"
   ]
  },
  {
   "cell_type": "code",
   "execution_count": 14,
   "metadata": {},
   "outputs": [
    {
     "data": {
      "image/png": "[encoded data removed]",
      "text/plain": [
       "<matplotlib.figure.Figure at 0x7fdb0e9d48d0>"
      ]
     },
     "metadata": {},
     "output_type": "display_data"
    }
   ],
   "source": [
    "explain(mlp_fae1, '$A$ biased against first model')\n",
    "plt.show()"
   ]
  },
  {
   "cell_type": "markdown",
   "metadata": {},
   "source": [
    "Excellent. When we train a model to have small gradients where the $A=0$ model has large ones, we reproduce the top middle rule, though in some cases we learn a hybrid of the two. Now let's train another model to be different from either one. Note: I'm going to iteratively increase the L2 penalty until I get explanation divergence. I'm doing this manually now but it could easily be automated."
   ]
  },
  {
   "cell_type": "code",
   "execution_count": 15,
   "metadata": {},
   "outputs": [
    {
     "data": {
      "text/plain": [
       "0.6511"
      ]
     },
     "execution_count": 15,
     "metadata": {},
     "output_type": "execute_result"
    }
   ],
   "source": [
    "A2 = mlp_fae1.largest_gradient_mask(X)\n",
    "mlp_fae2 = MultilayerPerceptron(l2_grads=1e6)\n",
    "mlp_fae2.fit(X, y, A2+A1)\n",
    "mlp_fae2.score(Xt, yt)"
   ]
  },
  {
   "cell_type": "code",
   "execution_count": 16,
   "metadata": {},
   "outputs": [
    {
     "data": {
      "image/png": "[encoded data removed]",
      "text/plain": [
       "<matplotlib.figure.Figure at 0x7fdb0e3f5d50>"
      ]
     },
     "metadata": {},
     "output_type": "display_data"
    }
   ],
   "source": [
    "explain(mlp_fae2, '$A$ biased against models 1 and 2')\n",
    "plt.show()"
   ]
  },
  {
   "cell_type": "markdown",
   "metadata": {},
   "source": [
    "When we run this twice, we get low accuracy and random gradient placement. Let's visualize this all together:"
   ]
  },
  {
   "cell_type": "code",
   "execution_count": 17,
   "metadata": {
    "scrolled": true
   },
   "outputs": [
    {
     "data": {
      "image/png": "[encoded data removed]",
      "text/plain": [
       "<matplotlib.figure.Figure at 0x7fdb0dcf98d0>"
      ]
     },
     "metadata": {},
     "output_type": "display_data"
    }
   ],
   "source": [
    "gridsize = (2,3)\n",
    "\n",
    "plt.subplot2grid(gridsize, (0,0))\n",
    "explain(mlp_plain, r'$M_{0.67}\\left[ f_X|\\theta_0 \\right]$', 4)\n",
    "\n",
    "plt.subplot2grid(gridsize, (0,1))\n",
    "explain(mlp_fae1, r'$M_{0.67}\\left[ f_X|\\theta_1 \\right]$', 4)\n",
    "\n",
    "plt.subplot2grid(gridsize, (0,2))\n",
    "explain(mlp_fae2, r'$M_{0.67}\\left[ f_X|\\theta_2 \\right]$', 4)\n",
    "\n",
    "plt.subplot2grid(gridsize, (1,0), colspan=3)\n",
    "plt.axhline(1, color='red', ls='--')\n",
    "\n",
    "test_scores = [mlp_plain.score(Xt, yt), mlp_fae1.score(Xt, yt), mlp_fae2.score(Xt, yt)]\n",
    "train_scores = [mlp_plain.score(X, y), mlp_fae1.score(X, y), mlp_fae2.score(X, y)]\n",
    "\n",
    "plt.plot([0,1,2], train_scores, marker='^', label='Train', alpha=0.5, color='blue', markersize=10)\n",
    "plt.plot([0,1,2], test_scores, marker='o', label='Test', color='blue')\n",
    "plt.xlim(-0.5, 2.5)\n",
    "plt.ylim(0.4, 1.05)\n",
    "plt.ylabel(' Accuracy')\n",
    "plt.xlabel('Find-another-explanation iteration')\n",
    "plt.legend(loc='best', fontsize=10)\n",
    "plt.xticks([0,1,2])\n",
    "plt.show()"
   ]
  },
  {
   "cell_type": "markdown",
   "metadata": {},
   "source": [
    "So this more or less demonstrates the find-another-explanation method on the toy color dataset.\n",
    "\n",
    "## Transitions between rules\n",
    "\n",
    "Separately, I ran a script to train many MLPs on this dataset, all biased against using corners, but with varying numbers of annotations in $A$ and varying L2 penalties. Let's see if we can find any transition behavior between these two rules:"
   ]
  },
  {
   "cell_type": "code",
   "execution_count": 18,
   "metadata": {},
   "outputs": [],
   "source": [
    "import pickle\n",
    "n_vals = pickle.load(open('../data/color_n_vals.pkl', 'rb'))\n",
    "n_mlps = pickle.load(open('../data/color_n_mlps.pkl', 'rb'))\n",
    "l2_vals = pickle.load(open('../data/color_l2_vals.pkl', 'rb'))\n",
    "l2_mlps = pickle.load(open('../data/color_l2_mlps.pkl', 'rb'))"
   ]
  },
  {
   "cell_type": "code",
   "execution_count": 19,
   "metadata": {},
   "outputs": [],
   "source": [
    "def realize(mlp_params):\n",
    "  return [MultilayerPerceptron.from_params(p) for p in mlp_params]\n",
    "\n",
    "l2_rule1_scores = [rule1_score(mlp, Xt[:1000]) for mlp in realize(l2_mlps)]\n",
    "l2_rule2_scores = [rule2_score(mlp, Xt[:1000]) for mlp in realize(l2_mlps)]\n",
    "l2_acc_scores = [mlp.score(Xt[:1000], yt[:1000]) for mlp in realize(l2_mlps)]\n",
    "\n",
    "n_rule1_scores = [rule1_score(mlp, Xt[:1000]) for mlp in realize(n_mlps)]\n",
    "n_rule2_scores = [rule2_score(mlp, Xt[:1000]) for mlp in realize(n_mlps)]\n",
    "n_acc_scores = [mlp.score(Xt[:1000], yt[:1000]) for mlp in realize(n_mlps)]"
   ]
  },
  {
   "cell_type": "code",
   "execution_count": 20,
   "metadata": {},
   "outputs": [
    {
     "name": "stderr",
     "output_type": "stream",
     "text": [
      "/home/atithi/lime/local/lib/python2.7/site-packages/matplotlib-2.1.2-py2.7-linux-x86_64.egg/matplotlib/axes/_base.py:2966: UserWarning: Attempted to set non-positive xlimits for log-scale axis; invalid limits will be ignored.\n",
      "  'Attempted to set non-positive xlimits for log-scale axis; '\n"
     ]
    },
    {
     "data": {
      "image/png": "[encoded data removed]",
      "text/plain": [
       "<matplotlib.figure.Figure at 0x7fdb0da4f9d0>"
      ]
     },
     "metadata": {},
     "output_type": "display_data"
    }
   ],
   "source": [
    "plt.figure(figsize=(8,4))\n",
    "plt.subplot(121)\n",
    "plt.plot(l2_vals, l2_rule1_scores, 'o', label='Corners', marker='^')\n",
    "plt.plot(l2_vals, l2_rule2_scores, 'o', label='Top mid.')\n",
    "plt.plot(l2_vals, l2_acc_scores, label='Accuracy')\n",
    "plt.title('Effect of $\\lambda_1$ on implicit rule (full $A$)')\n",
    "plt.ylabel(r'Mean % $M_{0.67}\\left[f_X\\right]$ in corners / top middle')\n",
    "plt.ylim(0,1.1)\n",
    "plt.xscale(\"log\")\n",
    "plt.yticks([])\n",
    "plt.xlim(0,1000)\n",
    "plt.legend(loc='best', fontsize=10)\n",
    "plt.xlabel(r'$\\lambda_1$ (explanation L2 penalty)')\n",
    "\n",
    "plt.subplot(122)\n",
    "plt.plot(n_vals, n_rule1_scores, 'o', label='Corners', marker='^')\n",
    "plt.plot(n_vals, n_rule2_scores, 'o', label='Top mid.')\n",
    "plt.plot(n_vals, n_acc_scores, label='Accuracy')\n",
    "plt.xscale('log')\n",
    "plt.ylim(0,1.1)\n",
    "plt.xlim(0,10000)\n",
    "plt.legend(loc='best', fontsize=10)\n",
    "plt.title('Effect of $A$ on implicit rule ($\\lambda_1=1000$)')\n",
    "plt.xlabel('Number of annotations (nonzero rows of $A$)')\n",
    "\n",
    "plt.tight_layout()\n",
    "plt.show()"
   ]
  },
  {
   "cell_type": "markdown",
   "metadata": {},
   "source": [
    "Cool. So we can definitely see a clear transition effect between rules.\n",
    "\n",
    "## Comparison with LIME\n",
    "\n",
    "Although we have some pretty clear evidence that gradient explanations are descriptive for our MLP on this simple dataset, let's make sure LIME produces similar results. We'll also do a very basic benchmark to see how long each of the respective methods take."
   ]
  },
  {
   "cell_type": "code",
   "execution_count": 21,
   "metadata": {},
   "outputs": [
    {
     "name": "stderr",
     "output_type": "stream",
     "text": [
      "/home/atithi/lime/local/lib/python2.7/site-packages/scikit_learn-0.19.1-py2.7-linux-x86_64.egg/sklearn/utils/validation.py:475: DataConversionWarning: Data with input dtype uint8 was converted to float64 by StandardScaler.\n",
      "  warnings.warn(msg, DataConversionWarning)\n"
     ]
    }
   ],
   "source": [
    "explainer = lime.lime_tabular.LimeTabularExplainer(\n",
    "  Xt,\n",
    "  feature_names=list(range(len(Xt[0]))),\n",
    "  class_names=[0,1])"
   ]
  },
  {
   "cell_type": "code",
   "execution_count": 22,
   "metadata": {},
   "outputs": [],
   "source": [
    "import time\n",
    "\n",
    "t1 = time.clock()\n",
    "\n",
    "lime_explanations = [\n",
    "  explainer.explain_instance(Xt[i], mlp_plain.predict_proba, top_labels=1)\n",
    "  for i in range(25)\n",
    "]\n",
    "\n",
    "t2 = time.clock()\n",
    "\n",
    "input_grads = mlp_plain.input_gradients(Xt[:25])\n",
    "\n",
    "t3 = time.clock()"
   ]
  },
  {
   "cell_type": "code",
   "execution_count": 23,
   "metadata": {},
   "outputs": [
    {
     "name": "stdout",
     "output_type": "stream",
     "text": [
      "LIME took 1.806223s/example\n",
      "grads took 0.000175s/example, which is 10298x faster\n"
     ]
    }
   ],
   "source": [
    "print('LIME took {:.6f}s/example'.format((t2-t1)/25.))\n",
    "print('grads took {:.6f}s/example, which is {:.0f}x faster'.format((t3-t2)/25., (t2-t1)/float(t3-t2)))"
   ]
  },
  {
   "cell_type": "code",
   "execution_count": 24,
   "metadata": {},
   "outputs": [],
   "source": [
    "preds = mlp_plain.predict(Xt[:25])\n",
    "lime_exps = [LocalLinearExplanation.from_lime(Xt[i], preds[i], lime_explanations[i]) for i in range(25)]\n",
    "grad_exps = [LocalLinearExplanation(Xt[i], preds[i], input_grads[i]) for i in range(25)]"
   ]
  },
  {
   "cell_type": "code",
   "execution_count": 25,
   "metadata": {},
   "outputs": [
    {
     "data": {
      "image/png": "[encoded data removed]",
      "text/plain": [
       "<matplotlib.figure.Figure at 0x7fdb0dd5aad0>"
      ]
     },
     "metadata": {},
     "output_type": "display_data"
    }
   ],
   "source": [
    "plt.subplot(121)\n",
    "plt.title('LIME', fontsize=16)\n",
    "explanation_grid(lime_exps, imgshape, 3)\n",
    "plt.subplot(122)\n",
    "plt.title(r'$M_{0.67}\\left[f_X\\right]$', fontsize=16)\n",
    "explanation_grid(grad_exps, imgshape, 3)\n",
    "plt.show()"
   ]
  },
  {
   "cell_type": "markdown",
   "metadata": {},
   "source": [
    "So our explanation methods agree somewhat closely, which is good to see. Also, gradients are significantly faster.\n",
    "\n",
    "## Learning from less data\n",
    "\n",
    "Do explanations allow our model to learn with less data? Separately, we trained many models on increasing fractions of the dataset with different annotations; some penalizing the corners/top-middle and some penalizing everything but the corners/top-middle. Let's see how each version of the model performs:"
   ]
  },
  {
   "cell_type": "code",
   "execution_count": 26,
   "metadata": {},
   "outputs": [
    {
     "ename": "ValueError",
     "evalue": "unsupported pickle protocol: 3",
     "output_type": "error",
     "traceback": [
      "\u001b[0;31m---------------------------------------------------------------------------\u001b[0m",
      "\u001b[0;31mValueError\u001b[0m                                Traceback (most recent call last)",
      "\u001b[0;32m<ipython-input-26-2a130db9c3c6>\u001b[0m in \u001b[0;36m<module>\u001b[0;34m()\u001b[0m\n\u001b[1;32m      1\u001b[0m \u001b[0;32mimport\u001b[0m \u001b[0mpickle\u001b[0m\u001b[0;34m\u001b[0m\u001b[0m\n\u001b[1;32m      2\u001b[0m \u001b[0;34m\u001b[0m\u001b[0m\n\u001b[0;32m----> 3\u001b[0;31m \u001b[0mdata_counts\u001b[0m \u001b[0;34m=\u001b[0m \u001b[0mpickle\u001b[0m\u001b[0;34m.\u001b[0m\u001b[0mload\u001b[0m\u001b[0;34m(\u001b[0m\u001b[0mopen\u001b[0m\u001b[0;34m(\u001b[0m\u001b[0;34m'../data/color_data_counts.pkl'\u001b[0m\u001b[0;34m,\u001b[0m \u001b[0;34m'rb'\u001b[0m\u001b[0;34m)\u001b[0m\u001b[0;34m)\u001b[0m\u001b[0;34m\u001b[0m\u001b[0m\n\u001b[0m\u001b[1;32m      4\u001b[0m \u001b[0mnormals_by_count\u001b[0m  \u001b[0;34m=\u001b[0m \u001b[0mpickle\u001b[0m\u001b[0;34m.\u001b[0m\u001b[0mload\u001b[0m\u001b[0;34m(\u001b[0m\u001b[0mopen\u001b[0m\u001b[0;34m(\u001b[0m\u001b[0;34m'../data/color_normals_by_count.pkl'\u001b[0m\u001b[0;34m,\u001b[0m \u001b[0;34m'rb'\u001b[0m\u001b[0;34m)\u001b[0m\u001b[0;34m)\u001b[0m\u001b[0;34m\u001b[0m\u001b[0m\n\u001b[1;32m      5\u001b[0m \u001b[0mpro_r1s_by_count\u001b[0m  \u001b[0;34m=\u001b[0m \u001b[0mpickle\u001b[0m\u001b[0;34m.\u001b[0m\u001b[0mload\u001b[0m\u001b[0;34m(\u001b[0m\u001b[0mopen\u001b[0m\u001b[0;34m(\u001b[0m\u001b[0;34m'../data/color_pro_r1s_by_count.pkl'\u001b[0m\u001b[0;34m,\u001b[0m \u001b[0;34m'rb'\u001b[0m\u001b[0;34m)\u001b[0m\u001b[0;34m)\u001b[0m\u001b[0;34m\u001b[0m\u001b[0m\n",
      "\u001b[0;32m/usr/lib/python2.7/pickle.pyc\u001b[0m in \u001b[0;36mload\u001b[0;34m(file)\u001b[0m\n\u001b[1;32m   1376\u001b[0m \u001b[0;34m\u001b[0m\u001b[0m\n\u001b[1;32m   1377\u001b[0m \u001b[0;32mdef\u001b[0m \u001b[0mload\u001b[0m\u001b[0;34m(\u001b[0m\u001b[0mfile\u001b[0m\u001b[0;34m)\u001b[0m\u001b[0;34m:\u001b[0m\u001b[0;34m\u001b[0m\u001b[0m\n\u001b[0;32m-> 1378\u001b[0;31m     \u001b[0;32mreturn\u001b[0m \u001b[0mUnpickler\u001b[0m\u001b[0;34m(\u001b[0m\u001b[0mfile\u001b[0m\u001b[0;34m)\u001b[0m\u001b[0;34m.\u001b[0m\u001b[0mload\u001b[0m\u001b[0;34m(\u001b[0m\u001b[0;34m)\u001b[0m\u001b[0;34m\u001b[0m\u001b[0m\n\u001b[0m\u001b[1;32m   1379\u001b[0m \u001b[0;34m\u001b[0m\u001b[0m\n\u001b[1;32m   1380\u001b[0m \u001b[0;32mdef\u001b[0m \u001b[0mloads\u001b[0m\u001b[0;34m(\u001b[0m\u001b[0mstr\u001b[0m\u001b[0;34m)\u001b[0m\u001b[0;34m:\u001b[0m\u001b[0;34m\u001b[0m\u001b[0m\n",
      "\u001b[0;32m/usr/lib/python2.7/pickle.pyc\u001b[0m in \u001b[0;36mload\u001b[0;34m(self)\u001b[0m\n\u001b[1;32m    856\u001b[0m             \u001b[0;32mwhile\u001b[0m \u001b[0;36m1\u001b[0m\u001b[0;34m:\u001b[0m\u001b[0;34m\u001b[0m\u001b[0m\n\u001b[1;32m    857\u001b[0m                 \u001b[0mkey\u001b[0m \u001b[0;34m=\u001b[0m \u001b[0mread\u001b[0m\u001b[0;34m(\u001b[0m\u001b[0;36m1\u001b[0m\u001b[0;34m)\u001b[0m\u001b[0;34m\u001b[0m\u001b[0m\n\u001b[0;32m--> 858\u001b[0;31m                 \u001b[0mdispatch\u001b[0m\u001b[0;34m[\u001b[0m\u001b[0mkey\u001b[0m\u001b[0;34m]\u001b[0m\u001b[0;34m(\u001b[0m\u001b[0mself\u001b[0m\u001b[0;34m)\u001b[0m\u001b[0;34m\u001b[0m\u001b[0m\n\u001b[0m\u001b[1;32m    859\u001b[0m         \u001b[0;32mexcept\u001b[0m \u001b[0m_Stop\u001b[0m\u001b[0;34m,\u001b[0m \u001b[0mstopinst\u001b[0m\u001b[0;34m:\u001b[0m\u001b[0;34m\u001b[0m\u001b[0m\n\u001b[1;32m    860\u001b[0m             \u001b[0;32mreturn\u001b[0m \u001b[0mstopinst\u001b[0m\u001b[0;34m.\u001b[0m\u001b[0mvalue\u001b[0m\u001b[0;34m\u001b[0m\u001b[0m\n",
      "\u001b[0;32m/usr/lib/python2.7/pickle.pyc\u001b[0m in \u001b[0;36mload_proto\u001b[0;34m(self)\u001b[0m\n\u001b[1;32m    884\u001b[0m         \u001b[0mproto\u001b[0m \u001b[0;34m=\u001b[0m \u001b[0mord\u001b[0m\u001b[0;34m(\u001b[0m\u001b[0mself\u001b[0m\u001b[0;34m.\u001b[0m\u001b[0mread\u001b[0m\u001b[0;34m(\u001b[0m\u001b[0;36m1\u001b[0m\u001b[0;34m)\u001b[0m\u001b[0;34m)\u001b[0m\u001b[0;34m\u001b[0m\u001b[0m\n\u001b[1;32m    885\u001b[0m         \u001b[0;32mif\u001b[0m \u001b[0;32mnot\u001b[0m \u001b[0;36m0\u001b[0m \u001b[0;34m<=\u001b[0m \u001b[0mproto\u001b[0m \u001b[0;34m<=\u001b[0m \u001b[0;36m2\u001b[0m\u001b[0;34m:\u001b[0m\u001b[0;34m\u001b[0m\u001b[0m\n\u001b[0;32m--> 886\u001b[0;31m             \u001b[0;32mraise\u001b[0m \u001b[0mValueError\u001b[0m\u001b[0;34m,\u001b[0m \u001b[0;34m\"unsupported pickle protocol: %d\"\u001b[0m \u001b[0;34m%\u001b[0m \u001b[0mproto\u001b[0m\u001b[0;34m\u001b[0m\u001b[0m\n\u001b[0m\u001b[1;32m    887\u001b[0m     \u001b[0mdispatch\u001b[0m\u001b[0;34m[\u001b[0m\u001b[0mPROTO\u001b[0m\u001b[0;34m]\u001b[0m \u001b[0;34m=\u001b[0m \u001b[0mload_proto\u001b[0m\u001b[0;34m\u001b[0m\u001b[0m\n\u001b[1;32m    888\u001b[0m \u001b[0;34m\u001b[0m\u001b[0m\n",
      "\u001b[0;31mValueError\u001b[0m: unsupported pickle protocol: 3"
     ]
    }
   ],
   "source": [
    "import pickle\n",
    "\n",
    "data_counts = pickle.load(open('../data/color_data_counts.pkl', 'rb'))\n",
    "normals_by_count  = pickle.load(open('../data/color_normals_by_count.pkl', 'rb'))\n",
    "pro_r1s_by_count  = pickle.load(open('../data/color_pro_r1s_by_count.pkl', 'rb'))\n",
    "pro_r2s_by_count  = pickle.load(open('../data/color_pro_r2s_by_count.pkl', 'rb'))\n",
    "anti_r1s_by_count = pickle.load(open('../data/color_anti_r1s_by_count.pkl', 'rb'))\n",
    "anti_r2s_by_count = pickle.load(open('../data/color_anti_r2s_by_count.pkl', 'rb'))"
   ]
  },
  {
   "cell_type": "code",
   "execution_count": null,
   "metadata": {},
   "outputs": [],
   "source": [
    "def score_all(ms):\n",
    "  return [m.score(Xt,yt) for m in realize(ms)]\n",
    "\n",
    "def realize(mlp_params):\n",
    "  return [MultilayerPerceptron.from_params(p) for p in mlp_params]\n",
    "\n",
    "sc_normal = score_all(normals_by_count)\n",
    "sc_pro_r1 = score_all(pro_r1s_by_count)\n",
    "sc_pro_r2 = score_all(pro_r2s_by_count)\n",
    "sc_anti_r1 = score_all(anti_r1s_by_count)\n",
    "sc_anti_r2 = score_all(anti_r2s_by_count)"
   ]
  },
  {
   "cell_type": "code",
   "execution_count": null,
   "metadata": {},
   "outputs": [],
   "source": [
    "from matplotlib import ticker\n",
    "\n",
    "def plot_A(A):\n",
    "  plt.gca().set_xticks([])\n",
    "  plt.gca().set_yticks([])\n",
    "  plt.imshow((A[0].reshape(5,5,3) * 255).astype(np.uint8), interpolation='none')\n",
    "  for i in range(5):\n",
    "    for j in range(5):\n",
    "      if A[0].reshape(5,5,3)[i][j][0]:\n",
    "        plt.text(j,i+0.025,'1',ha='center',va='center',fontsize=8)\n",
    "      else:\n",
    "        plt.text(j,i+0.025,'0',ha='center',va='center',color='white',fontsize=8)\n",
    "\n",
    "gridsize = (4,9)\n",
    "plt.figure(figsize=(10,5))\n",
    "cs=3\n",
    "\n",
    "plt.subplot2grid(gridsize, (0,2*cs))\n",
    "plt.title('Pro-Rule 1')\n",
    "plot_A(~E2)\n",
    "\n",
    "plt.subplot2grid(gridsize, (1,2*cs))\n",
    "plt.title('Pro-Rule 2')\n",
    "plot_A(~E1)\n",
    "\n",
    "plt.subplot2grid(gridsize, (2,2*cs))\n",
    "plt.title('Anti-Rule 1')\n",
    "plot_A(E2)\n",
    "\n",
    "plt.subplot2grid(gridsize, (3,2*cs))\n",
    "plt.title('Anti-Rule 2')\n",
    "plot_A(E1)\n",
    "\n",
    "plt.subplot2grid(gridsize, (0,0), rowspan=4, colspan=cs)\n",
    "plt.title('Learning Rule 1 with $A$')\n",
    "plt.errorbar(data_counts, sc_normal, label=r'Normal', lw=2)\n",
    "plt.errorbar(data_counts, sc_pro_r1, label=r'Pro-Rule 1', marker='H')\n",
    "plt.errorbar(data_counts, sc_anti_r2, label=r'Anti-Rule 2', marker='^')\n",
    "plt.xscale('log')\n",
    "plt.ylim(0.5,1)\n",
    "plt.ylabel('Test Accuracy')\n",
    "plt.xlabel('# Training Examples')\n",
    "plt.legend(loc='best', fontsize=10)\n",
    "plt.gca().xaxis.set_major_formatter(ticker.FormatStrFormatter(\"%d\"))\n",
    "plt.gca().set_xticks([10,100,1000])\n",
    "\n",
    "plt.subplot2grid(gridsize, (0,cs), rowspan=4, colspan=cs)\n",
    "plt.title('Learning Rule 2 with $A$')\n",
    "plt.gca().set_yticklabels([])\n",
    "plt.errorbar(data_counts, sc_normal, label=r'Normal', lw=2)\n",
    "plt.errorbar(data_counts, sc_pro_r2, label=r'Pro-Rule 2', marker='H')\n",
    "plt.errorbar(data_counts, sc_anti_r1, label=r'Anti-Rule 1', marker='^')\n",
    "plt.xscale('log')\n",
    "plt.ylim(0.5,1)\n",
    "plt.xlabel('# Training Examples')\n",
    "plt.legend(loc='best', fontsize=10)\n",
    "plt.gca().xaxis.set_major_formatter(ticker.FormatStrFormatter(\"%d\"))\n",
    "\n",
    "plt.show()"
   ]
  },
  {
   "cell_type": "code",
   "execution_count": null,
   "metadata": {},
   "outputs": [],
   "source": [
    "def improvement_over_normal(scores, cutoff):\n",
    "  norm = data_counts[next(i for i,val in enumerate(sc_normal) if val > cutoff)]\n",
    "  comp = data_counts[next(i for i,val in enumerate(scores) if val > cutoff)]\n",
    "  return norm / float(comp)\n",
    "\n",
    "def print_improvement(name, scores, cutoff):\n",
    "  print('Extra data for normal model to reach {:.2f} accuracy vs. {}: {:.2f}'.format(\n",
    "      cutoff, name, improvement_over_normal(scores, cutoff)))\n",
    "\n",
    "print_improvement('Anti-Rule 2', sc_anti_r2, 0.8)\n",
    "print_improvement('Anti-Rule 2', sc_anti_r2, 0.9)\n",
    "print_improvement('Anti-Rule 2', sc_anti_r2, 0.95)\n",
    "print_improvement('Anti-Rule 2', sc_anti_r2, 0.99)\n",
    "print('')\n",
    "print_improvement('Pro-Rule 1', sc_pro_r1, 0.8)\n",
    "print_improvement('Pro-Rule 1', sc_pro_r1, 0.9)\n",
    "print_improvement('Pro-Rule 1', sc_pro_r1, 0.95)\n",
    "print_improvement('Pro-Rule 1', sc_pro_r1, 0.99)\n",
    "print('')\n",
    "print_improvement('Pro-Rule 2', sc_pro_r2, 0.9)\n",
    "print_improvement('Pro-Rule 2', sc_pro_r2, 0.95)\n",
    "print_improvement('Pro-Rule 2', sc_pro_r2, 0.97)\n",
    "print('')\n",
    "print_improvement('Anti-Rule 1', sc_anti_r1, 0.7)\n",
    "print_improvement('Anti-Rule 1', sc_anti_r1, 0.8)\n",
    "print_improvement('Anti-Rule 1', sc_anti_r1, 0.9)"
   ]
  },
  {
   "cell_type": "markdown",
   "metadata": {},
   "source": [
    "Generally, we learn better classifiers with less data using explanations (especially in the Pro-Rule 1 case, where we provide the most information). Biasing against the top-middle or against everything but the corners / top-middle tends to give us more accurate classifiers. Biasing against the corners, however, gives us _lower_ accuracy until we obtain more examples. This may be because it's an inherently harder rule to learn; there are only 4 ways that all corners can match, but $4*3*2=24$ ways the top-middle pixels can differ.\n",
    "\n",
    "## Investigating cutoffs \n",
    "\n",
    "We chose a 0.67 cutoff for most of our training a bit arbitrarily, so let's just investigate that briefly:"
   ]
  },
  {
   "cell_type": "code",
   "execution_count": null,
   "metadata": {},
   "outputs": [],
   "source": [
    "def M(input_gradients, cutoff=0.67):\n",
    "  return np.array([np.abs(e) > cutoff*np.abs(e).max() for e in input_gradients]).astype(int).ravel()\n",
    "\n",
    "grads = mlp_plain.input_gradients(Xt)\n",
    "grads2 = mlp_rule1.input_gradients(Xt)\n",
    "\n",
    "cutoffs = np.linspace(0,1,100)\n",
    "cutoff_pcts = np.array([M(grads, c).sum() / float(len(grads.ravel())) for c in cutoffs])\n",
    "cutoff_pcts2 = np.array([M(grads2, c).sum() / float(len(grads2.ravel())) for c in cutoffs])"
   ]
  },
  {
   "cell_type": "code",
   "execution_count": null,
   "metadata": {},
   "outputs": [],
   "source": [
    "plt.plot(cutoffs, cutoff_pcts, label='$A=0$')\n",
    "plt.plot(cutoffs, cutoff_pcts2, label='$A$ against corners')\n",
    "plt.legend(loc='best')\n",
    "plt.xlabel('Cutoff')\n",
    "plt.ylabel('Mean fraction of qualifying gradient entries')\n",
    "plt.yticks(np.linspace(0,1,21))\n",
    "plt.yscale('log')\n",
    "plt.axhline(0.06, ls='--', c='red')\n",
    "plt.axvline(0.67, ls='--', c='blue')\n",
    "plt.title('-- Toy color dataset- --\\n# qualifying entries falls exponentially\\n0.67 cutoff takes the top ~6%')\n",
    "plt.show()"
   ]
  },
  {
   "cell_type": "markdown",
   "metadata": {},
   "source": [
    "On average, the number of elements we keep falls exponentially without any clear kink in the curve, so perhaps our arbitrariness is justified, though it's problematic that it exists in the first place."
   ]
  }
 ],
 "metadata": {
  "anaconda-cloud": {},
  "kernelspec": {
   "display_name": "Python 2",
   "language": "python",
   "name": "python2"
  },
  "language_info": {
   "codemirror_mode": {
    "name": "ipython",
    "version": 2
   },
   "file_extension": ".py",
   "mimetype": "text/x-python",
   "name": "python",
   "nbconvert_exporter": "python",
   "pygments_lexer": "ipython2",
   "version": "2.7.6"
  }
 },
 "nbformat": 4,
 "nbformat_minor": 1
}
